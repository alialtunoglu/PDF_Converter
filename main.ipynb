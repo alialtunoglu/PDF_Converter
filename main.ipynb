{
 "cells": [
  {
   "cell_type": "code",
   "execution_count": 1,
   "metadata": {},
   "outputs": [
    {
     "name": "stdout",
     "output_type": "stream",
     "text": [
      "Requirement already satisfied: findspark in c:\\users\\alial\\anaconda3\\lib\\site-packages (2.0.1)\n"
     ]
    }
   ],
   "source": [
    "!pip install findspark"
   ]
  },
  {
   "cell_type": "code",
   "execution_count": 2,
   "metadata": {},
   "outputs": [],
   "source": [
    "import findspark\n",
    "findspark.init(\"C:\\spark\")"
   ]
  },
  {
   "cell_type": "code",
   "execution_count": 3,
   "metadata": {},
   "outputs": [],
   "source": [
    "from pyspark import SparkContext"
   ]
  },
  {
   "cell_type": "code",
   "execution_count": 4,
   "metadata": {},
   "outputs": [
    {
     "name": "stderr",
     "output_type": "stream",
     "text": [
      "[INFO] Closing down clientserver connection\n"
     ]
    }
   ],
   "source": [
    "import os\n",
    "import tkinter as tk\n",
    "from tkinter import filedialog, messagebox, ttk\n",
    "from pyspark.sql import SparkSession\n",
    "import html_cover\n",
    "import text_cover\n",
    "import word_cover\n",
    "import json_cover\n",
    "import threading\n",
    "\n",
    "\n",
    "def select_pdf_files():\n",
    "    pdf_paths = filedialog.askopenfilenames(filetypes=[(\"PDF Files\", \"*.pdf\")])\n",
    "    pdf_path_entry.delete(0, tk.END)\n",
    "    pdf_path_entry.insert(0, \", \".join(pdf_paths))\n",
    "\n",
    "\n",
    "def select_output_directory():\n",
    "    output_dir = filedialog.askdirectory()\n",
    "    output_dir_entry.delete(0, tk.END)\n",
    "    output_dir_entry.insert(0, output_dir)\n",
    "\n",
    "\n",
    "def show_loading_screen():\n",
    "    loading_screen = tk.Toplevel(root)\n",
    "    loading_screen.title(\"Converting...\")\n",
    "    loading_screen.geometry(\"300x100\")\n",
    "\n",
    "    progress = ttk.Progressbar(loading_screen, orient=\"horizontal\", length=200, mode=\"indeterminate\")\n",
    "    progress.pack(pady=20)\n",
    "\n",
    "    tk.Label(loading_screen, text=\"Please wait...\").pack()\n",
    "\n",
    "    return loading_screen, progress\n",
    "\n",
    "\n",
    "def convert_pdf_with_spark(converter, pdf_paths, output_dir, extension, loading_screen):\n",
    "    spark = SparkSession.builder.appName(\"PDFConverter\").getOrCreate()\n",
    "\n",
    "    pdf_files = [(pdf, os.path.join(output_dir, f\"{os.path.splitext(os.path.basename(pdf))[0]}.{extension}\")) for pdf in pdf_paths]\n",
    "\n",
    "    pdf_rdd = spark.sparkContext.parallelize(pdf_files)\n",
    "    pdf_rdd.foreach(lambda pdf: converter(pdf[0], pdf[1]))\n",
    "\n",
    "    spark.stop()\n",
    "    loading_screen.destroy()\n",
    "    messagebox.showinfo(\"Başarılı\", \"PDF dönüştürme işlemi tamamlandı.\")\n",
    "\n",
    "\n",
    "def start_conversion(converter, pdf_paths, output_dir, extension):\n",
    "    loading_screen, progress = show_loading_screen()\n",
    "    progress.start()\n",
    "\n",
    "    conversion_thread = threading.Thread(target=convert_pdf_with_spark, args=(converter, pdf_paths, output_dir, extension, loading_screen))\n",
    "    conversion_thread.start()\n",
    "\n",
    "\n",
    "def convert_file(converter, pdf_paths, output_dir, extension):\n",
    "    if output_dir:\n",
    "        start_conversion(converter, pdf_paths, output_dir, extension)\n",
    "    else:\n",
    "        messagebox.showerror(\"Hata\", \"Çıktı dizini seçilmedi.\")\n",
    "\n",
    "\n",
    "def convert_to_word():\n",
    "    pdf_paths = pdf_path_entry.get().split(\", \")\n",
    "    convert_file(word_cover.pdf_to_word, pdf_paths, output_dir_entry.get(), \"docx\")\n",
    "\n",
    "\n",
    "def convert_to_html():\n",
    "    pdf_paths = pdf_path_entry.get().split(\", \")\n",
    "    convert_file(html_cover.pdf_to_html, pdf_paths, output_dir_entry.get(), \"html\")\n",
    "\n",
    "\n",
    "def convert_to_json():\n",
    "    pdf_paths = pdf_path_entry.get().split(\", \")\n",
    "    convert_file(json_cover.pdf_to_json, pdf_paths, output_dir_entry.get(), \"json\")\n",
    "\n",
    "\n",
    "def convert_to_txt():\n",
    "    pdf_paths = pdf_path_entry.get().split(\", \")\n",
    "    convert_file(text_cover.pdf_to_text, pdf_paths, output_dir_entry.get(), \"txt\")\n",
    "\n",
    "\n",
    "def convert():\n",
    "    convert_to_word()\n",
    "    convert_to_json()\n",
    "    convert_to_html()\n",
    "    convert_to_txt()\n",
    "\n",
    "\n",
    "root = tk.Tk()\n",
    "root.title(\"PDF Converter\")\n",
    "\n",
    "pdf_path_label = tk.Label(root, text=\"Select PDF Files:\")\n",
    "pdf_path_label.grid(row=0, column=0, padx=10, pady=5)\n",
    "\n",
    "pdf_path_entry = tk.Entry(root, width=50)\n",
    "pdf_path_entry.grid(row=0, column=1, padx=10, pady=5, columnspan=2)\n",
    "\n",
    "browse_button = tk.Button(root, text=\"Browse\", command=select_pdf_files)\n",
    "browse_button.grid(row=0, column=3, padx=10, pady=5)\n",
    "\n",
    "output_dir_label = tk.Label(root, text=\"Select Output Directory:\")\n",
    "output_dir_label.grid(row=1, column=0, padx=10, pady=5)\n",
    "\n",
    "output_dir_entry = tk.Entry(root, width=50)\n",
    "output_dir_entry.grid(row=1, column=1, padx=10, pady=5, columnspan=2)\n",
    "\n",
    "output_dir_button = tk.Button(root, text=\"Browse\", command=select_output_directory)\n",
    "output_dir_button.grid(row=1, column=3, padx=10, pady=5)\n",
    "\n",
    "word_button = tk.Button(root, text=\"Convert to Word\", command=convert_to_word)\n",
    "word_button.grid(row=2, column=0, padx=10, pady=5)\n",
    "\n",
    "json_button = tk.Button(root, text=\"Convert to JSON\", command=convert_to_json)\n",
    "json_button.grid(row=2, column=1, padx=10, pady=5)\n",
    "\n",
    "html_button = tk.Button(root, text=\"Convert to HTML\", command=convert_to_html)\n",
    "html_button.grid(row=2, column=2, padx=10, pady=5)\n",
    "\n",
    "txt_button = tk.Button(root, text=\"Convert to TXT\", command=convert_to_txt)\n",
    "txt_button.grid(row=2, column=3, padx=10, pady=5)\n",
    "\n",
    "convert_button = tk.Button(root, text=\"Convert All\", command=convert)\n",
    "convert_button.grid(row=3, column=0, columnspan=4, padx=10, pady=10)\n",
    "\n",
    "root.mainloop()\n"
   ]
  },
  {
   "cell_type": "code",
   "execution_count": null,
   "metadata": {},
   "outputs": [],
   "source": []
  }
 ],
 "metadata": {
  "kernelspec": {
   "display_name": "base",
   "language": "python",
   "name": "python3"
  },
  "language_info": {
   "codemirror_mode": {
    "name": "ipython",
    "version": 3
   },
   "file_extension": ".py",
   "mimetype": "text/x-python",
   "name": "python",
   "nbconvert_exporter": "python",
   "pygments_lexer": "ipython3",
   "version": "3.11.7"
  }
 },
 "nbformat": 4,
 "nbformat_minor": 2
}
